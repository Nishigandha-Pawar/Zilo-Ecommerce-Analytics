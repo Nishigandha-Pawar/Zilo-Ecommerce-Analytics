{
 "cells": [
  {
   "cell_type": "markdown",
   "id": "d867aca5-0253-4ba2-8109-25c15ce80474",
   "metadata": {},
   "source": [
    "#                      Zilo Retail Sales & Delivery Analysis "
   ]
  },
  {
   "cell_type": "markdown",
   "id": "be8bc676-0c74-460b-baa2-7e4c12cf01e4",
   "metadata": {},
   "source": [
    "## Introduction\n",
    "This project focuses on analyzing Zilo’s e-commerce sales data to uncover valuable business insights and patterns that can support data-driven decision-making. \n",
    "\n",
    "The main goal of this analysis is to understand how different factors — such as product category, pricing, region, and payment methods — influence sales performance and customer behavior. Through data cleaning, preprocessing, and exploratory data analysis (EDA), we aim to identify key trends, correlations, and improvement areas that can help Zilo enhance its marketing, inventory, and pricing strategies."
   ]
  },
  {
   "cell_type": "markdown",
   "id": "d4ebf896-39f8-4671-b01d-8b4011f6bc51",
   "metadata": {},
   "source": [
    "## 🎯 Objectives\n",
    "\n",
    "- Clean and prepare raw datasets for accurate analysis.<br>\n",
    "- Perform EDA to uncover trends and patterns in sales data.<br>\n",
    "- Analyze top-performing categories, regions, and products.<br>\n",
    "- Generate actionable insights for customer engagement and profitability.<br>\n",
    "- Prepare the data for visualization in Power BI Dashboard."
   ]
  },
  {
   "cell_type": "code",
   "execution_count": 1,
   "id": "bfbd8237-6d85-46f0-a558-986893c15159",
   "metadata": {},
   "outputs": [],
   "source": [
    "# Importing required libraries for EDA\n",
    "import pandas as pd\n",
    "import numpy as np\n",
    "import matplotlib.pyplot as plt"
   ]
  },
  {
   "cell_type": "markdown",
   "id": "0be3a280-55f2-4498-b469-f03fd88be29a",
   "metadata": {},
   "source": [
    "### Loading and Getting a Glimpse of the Dataset\n",
    "The dataset available is in .csv format, so I will load the dataset in csv format to start data analysis."
   ]
  },
  {
   "cell_type": "code",
   "execution_count": 2,
   "id": "ff03248b-da68-4319-ad76-2c9d6c225b16",
   "metadata": {},
   "outputs": [],
   "source": [
    "products = pd.read_csv(\"products.csv\")\n",
    "orders = pd.read_csv(\"orders.csv\" )"
   ]
  },
  {
   "cell_type": "code",
   "execution_count": 3,
   "id": "ca2d322d-0b11-4c66-a903-d2bd8285bb51",
   "metadata": {},
   "outputs": [
    {
     "data": {
      "text/html": [
       "<div>\n",
       "<style scoped>\n",
       "    .dataframe tbody tr th:only-of-type {\n",
       "        vertical-align: middle;\n",
       "    }\n",
       "\n",
       "    .dataframe tbody tr th {\n",
       "        vertical-align: top;\n",
       "    }\n",
       "\n",
       "    .dataframe thead th {\n",
       "        text-align: right;\n",
       "    }\n",
       "</style>\n",
       "<table border=\"1\" class=\"dataframe\">\n",
       "  <thead>\n",
       "    <tr style=\"text-align: right;\">\n",
       "      <th></th>\n",
       "      <th>product_id</th>\n",
       "      <th>product_name</th>\n",
       "      <th>brand</th>\n",
       "      <th>category</th>\n",
       "      <th>price_mrp</th>\n",
       "      <th>price_sale</th>\n",
       "      <th>discount_pct</th>\n",
       "      <th>availability_note</th>\n",
       "      <th>pincodes_available</th>\n",
       "    </tr>\n",
       "  </thead>\n",
       "  <tbody>\n",
       "    <tr>\n",
       "      <th>0</th>\n",
       "      <td>P1000</td>\n",
       "      <td>Outzidr Comfort T-Shirt 1</td>\n",
       "      <td>Outzidr</td>\n",
       "      <td>T-Shirts</td>\n",
       "      <td>1199</td>\n",
       "      <td>899</td>\n",
       "      <td>25</td>\n",
       "      <td>Delivery: 60 mins (select pincodes)</td>\n",
       "      <td>400018|400003|400014|400002|400001|400017</td>\n",
       "    </tr>\n",
       "    <tr>\n",
       "      <th>1</th>\n",
       "      <td>P1001</td>\n",
       "      <td>Puma Summer Footwear 2</td>\n",
       "      <td>Puma</td>\n",
       "      <td>Footwear</td>\n",
       "      <td>3499</td>\n",
       "      <td>3149</td>\n",
       "      <td>10</td>\n",
       "      <td>Delivery: Same day (select pincodes)</td>\n",
       "      <td>400018|400014|400008|400015|400009|400013|4000...</td>\n",
       "    </tr>\n",
       "    <tr>\n",
       "      <th>2</th>\n",
       "      <td>P1002</td>\n",
       "      <td>Janasya Striped Innerwear 3</td>\n",
       "      <td>Janasya</td>\n",
       "      <td>Innerwear</td>\n",
       "      <td>1799</td>\n",
       "      <td>1529</td>\n",
       "      <td>15</td>\n",
       "      <td>Delivery: 60 mins (select pincodes)</td>\n",
       "      <td>400012|400020|400009|400002|400015|400018</td>\n",
       "    </tr>\n",
       "    <tr>\n",
       "      <th>3</th>\n",
       "      <td>P1003</td>\n",
       "      <td>Roadster Black T-Shirt 4</td>\n",
       "      <td>Roadster</td>\n",
       "      <td>T-Shirts</td>\n",
       "      <td>2999</td>\n",
       "      <td>2099</td>\n",
       "      <td>30</td>\n",
       "      <td>Delivery: 3 hours</td>\n",
       "      <td>400012|400019|400007|400003|400002|400011|4000...</td>\n",
       "    </tr>\n",
       "    <tr>\n",
       "      <th>4</th>\n",
       "      <td>P1004</td>\n",
       "      <td>Antheaa Sport Footwear 5</td>\n",
       "      <td>Antheaa</td>\n",
       "      <td>Footwear</td>\n",
       "      <td>1499</td>\n",
       "      <td>824</td>\n",
       "      <td>45</td>\n",
       "      <td>Delivery: Same day (select pincodes)</td>\n",
       "      <td>400006|400012|400019|400007|400009|400018|4000...</td>\n",
       "    </tr>\n",
       "  </tbody>\n",
       "</table>\n",
       "</div>"
      ],
      "text/plain": [
       "  product_id                 product_name     brand   category  price_mrp  \\\n",
       "0      P1000    Outzidr Comfort T-Shirt 1   Outzidr   T-Shirts       1199   \n",
       "1      P1001       Puma Summer Footwear 2      Puma   Footwear       3499   \n",
       "2      P1002  Janasya Striped Innerwear 3   Janasya  Innerwear       1799   \n",
       "3      P1003     Roadster Black T-Shirt 4  Roadster   T-Shirts       2999   \n",
       "4      P1004     Antheaa Sport Footwear 5   Antheaa   Footwear       1499   \n",
       "\n",
       "   price_sale  discount_pct                     availability_note  \\\n",
       "0         899            25   Delivery: 60 mins (select pincodes)   \n",
       "1        3149            10  Delivery: Same day (select pincodes)   \n",
       "2        1529            15   Delivery: 60 mins (select pincodes)   \n",
       "3        2099            30                     Delivery: 3 hours   \n",
       "4         824            45  Delivery: Same day (select pincodes)   \n",
       "\n",
       "                                  pincodes_available  \n",
       "0          400018|400003|400014|400002|400001|400017  \n",
       "1  400018|400014|400008|400015|400009|400013|4000...  \n",
       "2          400012|400020|400009|400002|400015|400018  \n",
       "3  400012|400019|400007|400003|400002|400011|4000...  \n",
       "4  400006|400012|400019|400007|400009|400018|4000...  "
      ]
     },
     "execution_count": 3,
     "metadata": {},
     "output_type": "execute_result"
    }
   ],
   "source": [
    "products.head(5)                 # exploring first five variables to identify anamolies in the data"
   ]
  },
  {
   "cell_type": "code",
   "execution_count": 4,
   "id": "b593027c-7a12-4013-b5aa-79557f09a9f7",
   "metadata": {},
   "outputs": [
    {
     "data": {
      "text/plain": [
       "Index(['product_id', 'product_name', 'brand', 'category', 'price_mrp',\n",
       "       'price_sale', 'discount_pct', 'availability_note',\n",
       "       'pincodes_available'],\n",
       "      dtype='object')"
      ]
     },
     "execution_count": 4,
     "metadata": {},
     "output_type": "execute_result"
    }
   ],
   "source": [
    "products.columns"
   ]
  },
  {
   "cell_type": "code",
   "execution_count": 5,
   "id": "635ca9a5-a5ce-421c-8da7-1a870ff9cac6",
   "metadata": {},
   "outputs": [
    {
     "data": {
      "text/html": [
       "<div>\n",
       "<style scoped>\n",
       "    .dataframe tbody tr th:only-of-type {\n",
       "        vertical-align: middle;\n",
       "    }\n",
       "\n",
       "    .dataframe tbody tr th {\n",
       "        vertical-align: top;\n",
       "    }\n",
       "\n",
       "    .dataframe thead th {\n",
       "        text-align: right;\n",
       "    }\n",
       "</style>\n",
       "<table border=\"1\" class=\"dataframe\">\n",
       "  <thead>\n",
       "    <tr style=\"text-align: right;\">\n",
       "      <th></th>\n",
       "      <th>order_id</th>\n",
       "      <th>order_ts</th>\n",
       "      <th>product_id</th>\n",
       "      <th>quantity</th>\n",
       "      <th>unit_price</th>\n",
       "      <th>order_value</th>\n",
       "      <th>pincode</th>\n",
       "      <th>delivery_hours</th>\n",
       "      <th>on_time</th>\n",
       "      <th>is_returned</th>\n",
       "      <th>order_status</th>\n",
       "    </tr>\n",
       "  </thead>\n",
       "  <tbody>\n",
       "    <tr>\n",
       "      <th>0</th>\n",
       "      <td>ORD100000</td>\n",
       "      <td>03-10-2025 11:17</td>\n",
       "      <td>P1002</td>\n",
       "      <td>1</td>\n",
       "      <td>1529</td>\n",
       "      <td>1529</td>\n",
       "      <td>400018</td>\n",
       "      <td>2.5</td>\n",
       "      <td>1</td>\n",
       "      <td>0</td>\n",
       "      <td>delivered</td>\n",
       "    </tr>\n",
       "    <tr>\n",
       "      <th>1</th>\n",
       "      <td>ORD100001</td>\n",
       "      <td>20-09-2025 15:03</td>\n",
       "      <td>P1020</td>\n",
       "      <td>1</td>\n",
       "      <td>359</td>\n",
       "      <td>359</td>\n",
       "      <td>400017</td>\n",
       "      <td>0.2</td>\n",
       "      <td>1</td>\n",
       "      <td>0</td>\n",
       "      <td>delivered</td>\n",
       "    </tr>\n",
       "    <tr>\n",
       "      <th>2</th>\n",
       "      <td>ORD100002</td>\n",
       "      <td>23-09-2025 16:32</td>\n",
       "      <td>P1038</td>\n",
       "      <td>1</td>\n",
       "      <td>539</td>\n",
       "      <td>539</td>\n",
       "      <td>400002</td>\n",
       "      <td>2.4</td>\n",
       "      <td>1</td>\n",
       "      <td>0</td>\n",
       "      <td>delivered</td>\n",
       "    </tr>\n",
       "    <tr>\n",
       "      <th>3</th>\n",
       "      <td>ORD100003</td>\n",
       "      <td>01-10-2025 04:58</td>\n",
       "      <td>P1007</td>\n",
       "      <td>1</td>\n",
       "      <td>2099</td>\n",
       "      <td>2099</td>\n",
       "      <td>400004</td>\n",
       "      <td>1.7</td>\n",
       "      <td>1</td>\n",
       "      <td>0</td>\n",
       "      <td>delivered</td>\n",
       "    </tr>\n",
       "    <tr>\n",
       "      <th>4</th>\n",
       "      <td>ORD100004</td>\n",
       "      <td>02-09-2025 07:25</td>\n",
       "      <td>P1012</td>\n",
       "      <td>1</td>\n",
       "      <td>1599</td>\n",
       "      <td>1599</td>\n",
       "      <td>400001</td>\n",
       "      <td>0.9</td>\n",
       "      <td>1</td>\n",
       "      <td>0</td>\n",
       "      <td>delivered</td>\n",
       "    </tr>\n",
       "  </tbody>\n",
       "</table>\n",
       "</div>"
      ],
      "text/plain": [
       "    order_id          order_ts product_id  quantity  unit_price  order_value  \\\n",
       "0  ORD100000  03-10-2025 11:17      P1002         1        1529         1529   \n",
       "1  ORD100001  20-09-2025 15:03      P1020         1         359          359   \n",
       "2  ORD100002  23-09-2025 16:32      P1038         1         539          539   \n",
       "3  ORD100003  01-10-2025 04:58      P1007         1        2099         2099   \n",
       "4  ORD100004  02-09-2025 07:25      P1012         1        1599         1599   \n",
       "\n",
       "   pincode  delivery_hours  on_time  is_returned order_status  \n",
       "0   400018             2.5        1            0    delivered  \n",
       "1   400017             0.2        1            0    delivered  \n",
       "2   400002             2.4        1            0    delivered  \n",
       "3   400004             1.7        1            0    delivered  \n",
       "4   400001             0.9        1            0    delivered  "
      ]
     },
     "execution_count": 5,
     "metadata": {},
     "output_type": "execute_result"
    }
   ],
   "source": [
    "orders.head(5)                     # exploring first five variables to identify anamolies in the data"
   ]
  },
  {
   "cell_type": "code",
   "execution_count": 6,
   "id": "7a782af4-370c-48d2-a735-ee7fc1244701",
   "metadata": {},
   "outputs": [
    {
     "data": {
      "text/plain": [
       "(40, 9)"
      ]
     },
     "execution_count": 6,
     "metadata": {},
     "output_type": "execute_result"
    }
   ],
   "source": [
    "products.shape                              # Returns the number of rows and columns."
   ]
  },
  {
   "cell_type": "code",
   "execution_count": 7,
   "id": "abb11d59-3128-42cb-9740-172615b2d6d3",
   "metadata": {},
   "outputs": [
    {
     "data": {
      "text/plain": [
       "(3000, 11)"
      ]
     },
     "execution_count": 7,
     "metadata": {},
     "output_type": "execute_result"
    }
   ],
   "source": [
    "orders.shape"
   ]
  },
  {
   "cell_type": "code",
   "execution_count": 8,
   "id": "87676f9d-2477-4f57-9bf6-bebaba72e820",
   "metadata": {},
   "outputs": [
    {
     "name": "stdout",
     "output_type": "stream",
     "text": [
      "<class 'pandas.core.frame.DataFrame'>\n",
      "RangeIndex: 40 entries, 0 to 39\n",
      "Data columns (total 9 columns):\n",
      " #   Column              Non-Null Count  Dtype \n",
      "---  ------              --------------  ----- \n",
      " 0   product_id          40 non-null     object\n",
      " 1   product_name        40 non-null     object\n",
      " 2   brand               40 non-null     object\n",
      " 3   category            40 non-null     object\n",
      " 4   price_mrp           40 non-null     int64 \n",
      " 5   price_sale          40 non-null     int64 \n",
      " 6   discount_pct        40 non-null     int64 \n",
      " 7   availability_note   40 non-null     object\n",
      " 8   pincodes_available  40 non-null     object\n",
      "dtypes: int64(3), object(6)\n",
      "memory usage: 2.9+ KB\n"
     ]
    }
   ],
   "source": [
    "products.info()                  # Checking the data types of each feature"
   ]
  },
  {
   "cell_type": "code",
   "execution_count": 9,
   "id": "a188a6a5-a360-4b3e-859d-6283403554e8",
   "metadata": {},
   "outputs": [
    {
     "name": "stdout",
     "output_type": "stream",
     "text": [
      "<class 'pandas.core.frame.DataFrame'>\n",
      "RangeIndex: 3000 entries, 0 to 2999\n",
      "Data columns (total 11 columns):\n",
      " #   Column          Non-Null Count  Dtype  \n",
      "---  ------          --------------  -----  \n",
      " 0   order_id        3000 non-null   object \n",
      " 1   order_ts        3000 non-null   object \n",
      " 2   product_id      3000 non-null   object \n",
      " 3   quantity        3000 non-null   int64  \n",
      " 4   unit_price      3000 non-null   int64  \n",
      " 5   order_value     3000 non-null   int64  \n",
      " 6   pincode         3000 non-null   int64  \n",
      " 7   delivery_hours  3000 non-null   float64\n",
      " 8   on_time         3000 non-null   int64  \n",
      " 9   is_returned     3000 non-null   int64  \n",
      " 10  order_status    3000 non-null   object \n",
      "dtypes: float64(1), int64(6), object(4)\n",
      "memory usage: 257.9+ KB\n"
     ]
    }
   ],
   "source": [
    "orders.info()                  # Checking the data types of each feature"
   ]
  },
  {
   "cell_type": "code",
   "execution_count": 10,
   "id": "515f874e-5418-46b6-ad79-8b24e9041b2c",
   "metadata": {},
   "outputs": [
    {
     "data": {
      "text/html": [
       "<div>\n",
       "<style scoped>\n",
       "    .dataframe tbody tr th:only-of-type {\n",
       "        vertical-align: middle;\n",
       "    }\n",
       "\n",
       "    .dataframe tbody tr th {\n",
       "        vertical-align: top;\n",
       "    }\n",
       "\n",
       "    .dataframe thead th {\n",
       "        text-align: right;\n",
       "    }\n",
       "</style>\n",
       "<table border=\"1\" class=\"dataframe\">\n",
       "  <thead>\n",
       "    <tr style=\"text-align: right;\">\n",
       "      <th></th>\n",
       "      <th>count</th>\n",
       "      <th>mean</th>\n",
       "      <th>std</th>\n",
       "      <th>min</th>\n",
       "      <th>25%</th>\n",
       "      <th>50%</th>\n",
       "      <th>75%</th>\n",
       "      <th>max</th>\n",
       "    </tr>\n",
       "  </thead>\n",
       "  <tbody>\n",
       "    <tr>\n",
       "      <th>price_mrp</th>\n",
       "      <td>40.0</td>\n",
       "      <td>2096.500</td>\n",
       "      <td>1194.536172</td>\n",
       "      <td>799.0</td>\n",
       "      <td>999.00</td>\n",
       "      <td>1649.0</td>\n",
       "      <td>2999.0</td>\n",
       "      <td>4499.0</td>\n",
       "    </tr>\n",
       "    <tr>\n",
       "      <th>price_sale</th>\n",
       "      <td>40.0</td>\n",
       "      <td>1398.625</td>\n",
       "      <td>801.505305</td>\n",
       "      <td>359.0</td>\n",
       "      <td>764.00</td>\n",
       "      <td>1266.5</td>\n",
       "      <td>2099.0</td>\n",
       "      <td>3399.0</td>\n",
       "    </tr>\n",
       "    <tr>\n",
       "      <th>discount_pct</th>\n",
       "      <td>40.0</td>\n",
       "      <td>32.125</td>\n",
       "      <td>15.806827</td>\n",
       "      <td>10.0</td>\n",
       "      <td>18.75</td>\n",
       "      <td>30.0</td>\n",
       "      <td>45.0</td>\n",
       "      <td>60.0</td>\n",
       "    </tr>\n",
       "  </tbody>\n",
       "</table>\n",
       "</div>"
      ],
      "text/plain": [
       "              count      mean          std    min     25%     50%     75%  \\\n",
       "price_mrp      40.0  2096.500  1194.536172  799.0  999.00  1649.0  2999.0   \n",
       "price_sale     40.0  1398.625   801.505305  359.0  764.00  1266.5  2099.0   \n",
       "discount_pct   40.0    32.125    15.806827   10.0   18.75    30.0    45.0   \n",
       "\n",
       "                 max  \n",
       "price_mrp     4499.0  \n",
       "price_sale    3399.0  \n",
       "discount_pct    60.0  "
      ]
     },
     "execution_count": 10,
     "metadata": {},
     "output_type": "execute_result"
    }
   ],
   "source": [
    "products.describe().T"
   ]
  },
  {
   "cell_type": "code",
   "execution_count": 11,
   "id": "e8380232-9b9f-441e-8b90-9bb557dbfc41",
   "metadata": {},
   "outputs": [
    {
     "data": {
      "text/html": [
       "<div>\n",
       "<style scoped>\n",
       "    .dataframe tbody tr th:only-of-type {\n",
       "        vertical-align: middle;\n",
       "    }\n",
       "\n",
       "    .dataframe tbody tr th {\n",
       "        vertical-align: top;\n",
       "    }\n",
       "\n",
       "    .dataframe thead th {\n",
       "        text-align: right;\n",
       "    }\n",
       "</style>\n",
       "<table border=\"1\" class=\"dataframe\">\n",
       "  <thead>\n",
       "    <tr style=\"text-align: right;\">\n",
       "      <th></th>\n",
       "      <th>count</th>\n",
       "      <th>mean</th>\n",
       "      <th>std</th>\n",
       "      <th>min</th>\n",
       "      <th>25%</th>\n",
       "      <th>50%</th>\n",
       "      <th>75%</th>\n",
       "      <th>max</th>\n",
       "    </tr>\n",
       "  </thead>\n",
       "  <tbody>\n",
       "    <tr>\n",
       "      <th>quantity</th>\n",
       "      <td>3000.0</td>\n",
       "      <td>1.227000</td>\n",
       "      <td>0.479111</td>\n",
       "      <td>1.0</td>\n",
       "      <td>1.0</td>\n",
       "      <td>1.0</td>\n",
       "      <td>1.0</td>\n",
       "      <td>3.0</td>\n",
       "    </tr>\n",
       "    <tr>\n",
       "      <th>unit_price</th>\n",
       "      <td>3000.0</td>\n",
       "      <td>1402.845000</td>\n",
       "      <td>825.222579</td>\n",
       "      <td>359.0</td>\n",
       "      <td>764.0</td>\n",
       "      <td>1274.0</td>\n",
       "      <td>1799.0</td>\n",
       "      <td>3399.0</td>\n",
       "    </tr>\n",
       "    <tr>\n",
       "      <th>order_value</th>\n",
       "      <td>3000.0</td>\n",
       "      <td>1728.099667</td>\n",
       "      <td>1317.957678</td>\n",
       "      <td>359.0</td>\n",
       "      <td>764.0</td>\n",
       "      <td>1529.0</td>\n",
       "      <td>2099.0</td>\n",
       "      <td>9447.0</td>\n",
       "    </tr>\n",
       "    <tr>\n",
       "      <th>pincode</th>\n",
       "      <td>3000.0</td>\n",
       "      <td>400010.586667</td>\n",
       "      <td>5.811117</td>\n",
       "      <td>400001.0</td>\n",
       "      <td>400005.0</td>\n",
       "      <td>400011.0</td>\n",
       "      <td>400016.0</td>\n",
       "      <td>400020.0</td>\n",
       "    </tr>\n",
       "    <tr>\n",
       "      <th>delivery_hours</th>\n",
       "      <td>3000.0</td>\n",
       "      <td>7.774833</td>\n",
       "      <td>13.870841</td>\n",
       "      <td>0.2</td>\n",
       "      <td>1.3</td>\n",
       "      <td>2.7</td>\n",
       "      <td>5.5</td>\n",
       "      <td>95.7</td>\n",
       "    </tr>\n",
       "    <tr>\n",
       "      <th>on_time</th>\n",
       "      <td>3000.0</td>\n",
       "      <td>0.895667</td>\n",
       "      <td>0.305743</td>\n",
       "      <td>0.0</td>\n",
       "      <td>1.0</td>\n",
       "      <td>1.0</td>\n",
       "      <td>1.0</td>\n",
       "      <td>1.0</td>\n",
       "    </tr>\n",
       "    <tr>\n",
       "      <th>is_returned</th>\n",
       "      <td>3000.0</td>\n",
       "      <td>0.047667</td>\n",
       "      <td>0.213095</td>\n",
       "      <td>0.0</td>\n",
       "      <td>0.0</td>\n",
       "      <td>0.0</td>\n",
       "      <td>0.0</td>\n",
       "      <td>1.0</td>\n",
       "    </tr>\n",
       "  </tbody>\n",
       "</table>\n",
       "</div>"
      ],
      "text/plain": [
       "                 count           mean          std       min       25%  \\\n",
       "quantity        3000.0       1.227000     0.479111       1.0       1.0   \n",
       "unit_price      3000.0    1402.845000   825.222579     359.0     764.0   \n",
       "order_value     3000.0    1728.099667  1317.957678     359.0     764.0   \n",
       "pincode         3000.0  400010.586667     5.811117  400001.0  400005.0   \n",
       "delivery_hours  3000.0       7.774833    13.870841       0.2       1.3   \n",
       "on_time         3000.0       0.895667     0.305743       0.0       1.0   \n",
       "is_returned     3000.0       0.047667     0.213095       0.0       0.0   \n",
       "\n",
       "                     50%       75%       max  \n",
       "quantity             1.0       1.0       3.0  \n",
       "unit_price        1274.0    1799.0    3399.0  \n",
       "order_value       1529.0    2099.0    9447.0  \n",
       "pincode         400011.0  400016.0  400020.0  \n",
       "delivery_hours       2.7       5.5      95.7  \n",
       "on_time              1.0       1.0       1.0  \n",
       "is_returned          0.0       0.0       1.0  "
      ]
     },
     "execution_count": 11,
     "metadata": {},
     "output_type": "execute_result"
    }
   ],
   "source": [
    "orders.describe().T"
   ]
  },
  {
   "cell_type": "code",
   "execution_count": 12,
   "id": "5a4f99ec-bf10-4c58-addc-7fd6f7a0d8c1",
   "metadata": {},
   "outputs": [
    {
     "data": {
      "text/plain": [
       "product_id            0\n",
       "product_name          0\n",
       "brand                 0\n",
       "category              0\n",
       "price_mrp             0\n",
       "price_sale            0\n",
       "discount_pct          0\n",
       "availability_note     0\n",
       "pincodes_available    0\n",
       "dtype: int64"
      ]
     },
     "execution_count": 12,
     "metadata": {},
     "output_type": "execute_result"
    }
   ],
   "source": [
    "# checking total number of missing values in each feature\n",
    "products.isnull().sum().sort_values(ascending= False)"
   ]
  },
  {
   "cell_type": "code",
   "execution_count": 13,
   "id": "a476b2d7-7b99-4bfc-accf-b83d17009734",
   "metadata": {},
   "outputs": [
    {
     "data": {
      "text/plain": [
       "order_id          0\n",
       "order_ts          0\n",
       "product_id        0\n",
       "quantity          0\n",
       "unit_price        0\n",
       "order_value       0\n",
       "pincode           0\n",
       "delivery_hours    0\n",
       "on_time           0\n",
       "is_returned       0\n",
       "order_status      0\n",
       "dtype: int64"
      ]
     },
     "execution_count": 13,
     "metadata": {},
     "output_type": "execute_result"
    }
   ],
   "source": [
    "# checking total number of missing values in each feature\n",
    "orders.isnull().sum().sort_values(ascending= False)"
   ]
  },
  {
   "cell_type": "code",
   "execution_count": 16,
   "id": "5d931c3b-1508-4670-9a5c-dad51e8c4d40",
   "metadata": {},
   "outputs": [
    {
     "name": "stdout",
     "output_type": "stream",
     "text": [
      "Orders nulls:\n",
      "order_id          0\n",
      "order_ts          0\n",
      "product_id        0\n",
      "quantity          0\n",
      "unit_price        0\n",
      "order_value       0\n",
      "pincode           0\n",
      "delivery_hours    0\n",
      "on_time           0\n",
      "is_returned       0\n",
      "order_status      0\n",
      "order_date        0\n",
      "order_hour        0\n",
      "order_dow         0\n",
      "dtype: int64\n"
     ]
    },
    {
     "data": {
      "text/html": [
       "<div>\n",
       "<style scoped>\n",
       "    .dataframe tbody tr th:only-of-type {\n",
       "        vertical-align: middle;\n",
       "    }\n",
       "\n",
       "    .dataframe tbody tr th {\n",
       "        vertical-align: top;\n",
       "    }\n",
       "\n",
       "    .dataframe thead th {\n",
       "        text-align: right;\n",
       "    }\n",
       "</style>\n",
       "<table border=\"1\" class=\"dataframe\">\n",
       "  <thead>\n",
       "    <tr style=\"text-align: right;\">\n",
       "      <th></th>\n",
       "      <th>order_id</th>\n",
       "      <th>order_ts</th>\n",
       "      <th>product_id</th>\n",
       "      <th>quantity</th>\n",
       "      <th>unit_price</th>\n",
       "      <th>order_value</th>\n",
       "      <th>pincode</th>\n",
       "      <th>delivery_hours</th>\n",
       "      <th>on_time</th>\n",
       "      <th>is_returned</th>\n",
       "      <th>order_status</th>\n",
       "      <th>order_date</th>\n",
       "      <th>order_hour</th>\n",
       "      <th>order_dow</th>\n",
       "    </tr>\n",
       "  </thead>\n",
       "  <tbody>\n",
       "    <tr>\n",
       "      <th>0</th>\n",
       "      <td>ORD100000</td>\n",
       "      <td>2025-10-03 11:17:00</td>\n",
       "      <td>P1002</td>\n",
       "      <td>1</td>\n",
       "      <td>1529</td>\n",
       "      <td>1529</td>\n",
       "      <td>400018</td>\n",
       "      <td>2.5</td>\n",
       "      <td>1</td>\n",
       "      <td>0</td>\n",
       "      <td>delivered</td>\n",
       "      <td>2025-10-03</td>\n",
       "      <td>11</td>\n",
       "      <td>Friday</td>\n",
       "    </tr>\n",
       "    <tr>\n",
       "      <th>1</th>\n",
       "      <td>ORD100001</td>\n",
       "      <td>2025-09-20 15:03:00</td>\n",
       "      <td>P1020</td>\n",
       "      <td>1</td>\n",
       "      <td>359</td>\n",
       "      <td>359</td>\n",
       "      <td>400017</td>\n",
       "      <td>0.2</td>\n",
       "      <td>1</td>\n",
       "      <td>0</td>\n",
       "      <td>delivered</td>\n",
       "      <td>2025-09-20</td>\n",
       "      <td>15</td>\n",
       "      <td>Saturday</td>\n",
       "    </tr>\n",
       "    <tr>\n",
       "      <th>2</th>\n",
       "      <td>ORD100002</td>\n",
       "      <td>2025-09-23 16:32:00</td>\n",
       "      <td>P1038</td>\n",
       "      <td>1</td>\n",
       "      <td>539</td>\n",
       "      <td>539</td>\n",
       "      <td>400002</td>\n",
       "      <td>2.4</td>\n",
       "      <td>1</td>\n",
       "      <td>0</td>\n",
       "      <td>delivered</td>\n",
       "      <td>2025-09-23</td>\n",
       "      <td>16</td>\n",
       "      <td>Tuesday</td>\n",
       "    </tr>\n",
       "    <tr>\n",
       "      <th>3</th>\n",
       "      <td>ORD100003</td>\n",
       "      <td>2025-10-01 04:58:00</td>\n",
       "      <td>P1007</td>\n",
       "      <td>1</td>\n",
       "      <td>2099</td>\n",
       "      <td>2099</td>\n",
       "      <td>400004</td>\n",
       "      <td>1.7</td>\n",
       "      <td>1</td>\n",
       "      <td>0</td>\n",
       "      <td>delivered</td>\n",
       "      <td>2025-10-01</td>\n",
       "      <td>4</td>\n",
       "      <td>Wednesday</td>\n",
       "    </tr>\n",
       "    <tr>\n",
       "      <th>4</th>\n",
       "      <td>ORD100004</td>\n",
       "      <td>2025-09-02 07:25:00</td>\n",
       "      <td>P1012</td>\n",
       "      <td>1</td>\n",
       "      <td>1599</td>\n",
       "      <td>1599</td>\n",
       "      <td>400001</td>\n",
       "      <td>0.9</td>\n",
       "      <td>1</td>\n",
       "      <td>0</td>\n",
       "      <td>delivered</td>\n",
       "      <td>2025-09-02</td>\n",
       "      <td>7</td>\n",
       "      <td>Tuesday</td>\n",
       "    </tr>\n",
       "    <tr>\n",
       "      <th>5</th>\n",
       "      <td>ORD100005</td>\n",
       "      <td>2025-09-29 17:36:00</td>\n",
       "      <td>P1021</td>\n",
       "      <td>1</td>\n",
       "      <td>1624</td>\n",
       "      <td>1624</td>\n",
       "      <td>400007</td>\n",
       "      <td>57.1</td>\n",
       "      <td>0</td>\n",
       "      <td>0</td>\n",
       "      <td>delivered</td>\n",
       "      <td>2025-09-29</td>\n",
       "      <td>17</td>\n",
       "      <td>Monday</td>\n",
       "    </tr>\n",
       "  </tbody>\n",
       "</table>\n",
       "</div>"
      ],
      "text/plain": [
       "    order_id            order_ts product_id  quantity  unit_price  \\\n",
       "0  ORD100000 2025-10-03 11:17:00      P1002         1        1529   \n",
       "1  ORD100001 2025-09-20 15:03:00      P1020         1         359   \n",
       "2  ORD100002 2025-09-23 16:32:00      P1038         1         539   \n",
       "3  ORD100003 2025-10-01 04:58:00      P1007         1        2099   \n",
       "4  ORD100004 2025-09-02 07:25:00      P1012         1        1599   \n",
       "5  ORD100005 2025-09-29 17:36:00      P1021         1        1624   \n",
       "\n",
       "   order_value  pincode  delivery_hours  on_time  is_returned order_status  \\\n",
       "0         1529   400018             2.5        1            0    delivered   \n",
       "1          359   400017             0.2        1            0    delivered   \n",
       "2          539   400002             2.4        1            0    delivered   \n",
       "3         2099   400004             1.7        1            0    delivered   \n",
       "4         1599   400001             0.9        1            0    delivered   \n",
       "5         1624   400007            57.1        0            0    delivered   \n",
       "\n",
       "   order_date  order_hour  order_dow  \n",
       "0  2025-10-03          11     Friday  \n",
       "1  2025-09-20          15   Saturday  \n",
       "2  2025-09-23          16    Tuesday  \n",
       "3  2025-10-01           4  Wednesday  \n",
       "4  2025-09-02           7    Tuesday  \n",
       "5  2025-09-29          17     Monday  "
      ]
     },
     "execution_count": 16,
     "metadata": {},
     "output_type": "execute_result"
    }
   ],
   "source": [
    "# Convert to datetime (day comes first)\n",
    "orders['order_ts'] = pd.to_datetime(orders['order_ts'], dayfirst=True)\n",
    "\n",
    "# Derived columns\n",
    "orders['order_date'] = orders['order_ts'].dt.date\n",
    "orders['order_hour'] = orders['order_ts'].dt.hour\n",
    "orders['order_dow'] = orders['order_ts'].dt.day_name()\n",
    "\n",
    "# Quick null checks\n",
    "print('Orders nulls:')\n",
    "print(orders.isnull().sum())\n",
    "\n",
    "# Preview\n",
    "orders.head(6)\n"
   ]
  },
  {
   "cell_type": "code",
   "execution_count": null,
   "id": "46835164-a95e-40e9-b8a2-7847d3a9cd46",
   "metadata": {},
   "outputs": [],
   "source": [
    "# KPI calculations\n",
    "kpis = {\n",
    "    'total_orders': len(orders),\n",
    "    'total_revenue': orders['order_value'].sum(),\n",
    "    'avg_delivery_hours': orders['delivery_hours'].mean(),\n",
    "    'on_time_pct': orders['on_time'].mean() * 100,\n",
    "    'return_rate_pct': orders['is_returned'].mean() * 100,\n",
    "    'AOV': orders['order_value'].mean()\n",
    "}\n",
    "\n",
    "for key, value in kpis.items():\n",
    "    print(f\"{key}: {value}\")"
   ]
  },
  {
   "cell_type": "code",
   "execution_count": null,
   "id": "b54f66d3-2a38-4fbd-ae6a-31a388d15797",
   "metadata": {},
   "outputs": [],
   "source": [
    "# Top products by revenue\n",
    "top_products = (\n",
    "    orders.groupby(['product_id'])\n",
    "    .agg(total_revenue=('order_value','sum'), orders=('order_id','count'))\n",
    "    .merge(products[['product_id','product_name','brand']], on='product_id', how='left')\n",
    "    .sort_values('total_revenue', ascending=False)\n",
    ")\n",
    "\n",
    "top_products.head(12)"
   ]
  },
  {
   "cell_type": "code",
   "execution_count": null,
   "id": "5c8c81cd-dfbe-4954-a74a-150800251bb4",
   "metadata": {},
   "outputs": [],
   "source": [
    "# Pincode summary: orders, revenue, avg delivery, on-time %\n",
    "pincode_summary = (\n",
    "    orders.groupby('pincode')\n",
    "    .agg(orders=('order_id','count'), revenue=('order_value','sum'), avg_delivery_hr=('delivery_hours','mean'), on_time_pct=('on_time', 'mean'))\n",
    "    .reset_index()\n",
    "    .sort_values('orders', ascending=False)\n",
    ")\n",
    "\n",
    "# convert on_time_pct to percentage\n",
    "pincode_summary['on_time_pct'] = pincode_summary['on_time_pct'] * 100\n",
    "\n",
    "pincode_summary.head(12)"
   ]
  },
  {
   "cell_type": "code",
   "execution_count": null,
   "id": "2569e496-2df3-436e-8557-6f0831f47466",
   "metadata": {},
   "outputs": [],
   "source": [
    "plt.figure(figsize=(8,4))\n",
    "plt.hist(orders['delivery_hours'], bins=20)\n",
    "plt.title('Delivery hours distribution')\n",
    "plt.xlabel('Delivery hours')\n",
    "plt.ylabel('Number of orders')\n",
    "plt.tight_layout()\n",
    "plt.show()\n"
   ]
  },
  {
   "cell_type": "code",
   "execution_count": null,
   "id": "9c067eda-3721-480f-be47-7b0c827741ce",
   "metadata": {},
   "outputs": [],
   "source": [
    "# Return rates by product\n",
    "return_stats = (\n",
    "    orders.groupby('product_id')\n",
    "    .agg(orders=('order_id','count'), returns=('is_returned','sum'))\n",
    "\n",
    ")\n",
    "return_stats['return_rate_pct'] = (return_stats['returns'] / return_stats['orders']) * 100\n",
    "return_stats = return_stats.merge(products[['product_id','product_name','brand','category']], on='product_id', how='left')\n",
    "return_stats.sort_values('return_rate_pct', ascending=False).head(12)\n"
   ]
  },
  {
   "cell_type": "code",
   "execution_count": null,
   "id": "c676c56c-372f-4198-9973-7aeaa344b5bc",
   "metadata": {},
   "outputs": [],
   "source": [
    "# merge datasets \n",
    "merged_df = pd.merge(orders, products, on='product_id', how='left')\n",
    "merged_df.head(5)"
   ]
  },
  {
   "cell_type": "markdown",
   "id": "122f1ded-b494-4218-92da-bec379e11a0d",
   "metadata": {},
   "source": [
    "## Business Insights "
   ]
  },
  {
   "cell_type": "markdown",
   "id": "7ab398f2-7be3-4a85-9afd-cae84e41c496",
   "metadata": {},
   "source": [
    "### 1.Total Revenue "
   ]
  },
  {
   "cell_type": "code",
   "execution_count": null,
   "id": "c8400fdf-ecc8-415b-8907-80bad292dc0c",
   "metadata": {},
   "outputs": [],
   "source": [
    "# Calculate total revenue\n",
    "merged_df['total_price'] = merged_df['unit_price'] * merged_df['quantity']\n",
    "total_revenue = merged_df['total_price'].sum()\n",
    "print(total_revenue)"
   ]
  },
  {
   "cell_type": "markdown",
   "id": "43649ce0-df10-45b5-88aa-3ba583cb2598",
   "metadata": {},
   "source": [
    "### 2.Top Products by Revenue"
   ]
  },
  {
   "cell_type": "code",
   "execution_count": null,
   "id": "501aefad-7bbb-4f1b-92b9-833882e15ee3",
   "metadata": {},
   "outputs": [],
   "source": [
    "# Group by category\n",
    "category_rev = merged_df.groupby('category')['total_price'].sum().sort_values(ascending=False)\n",
    "print(\"Revenue by Category:\\n\", category_rev)\n"
   ]
  },
  {
   "cell_type": "markdown",
   "id": "ef8b7787-733b-4fbd-809d-b0e592868e71",
   "metadata": {},
   "source": [
    "#### Conclusion:\n",
    "Footwear is the top revenue-generating category.<br>\n",
    "A few products dominate the majority of revenue "
   ]
  },
  {
   "cell_type": "markdown",
   "id": "4fd9ee2e-ec7b-4ba2-b7d0-821e4f429369",
   "metadata": {},
   "source": [
    "### 3.Average Order Value (AOV)"
   ]
  },
  {
   "cell_type": "code",
   "execution_count": null,
   "id": "331a3e8b-e773-4548-a76d-c8a2a746a947",
   "metadata": {},
   "outputs": [],
   "source": [
    "# AOV(Avg Order Value)\n",
    "aov = total_revenue / merged_df['order_id'].nunique()\n",
    "print(f\"Average Order Value (AOV): {aov:.2f}\")"
   ]
  },
  {
   "cell_type": "markdown",
   "id": "5c9ec17b-5778-42a6-99cc-546e8b9bcf09",
   "metadata": {},
   "source": [
    "### 3.Monthly Revenue Trend"
   ]
  },
  {
   "cell_type": "code",
   "execution_count": null,
   "id": "830e8127-cc60-41d4-8c2a-3908efa13694",
   "metadata": {},
   "outputs": [],
   "source": [
    "if 'order_date' in merged_df.columns:\n",
    "    merged_df['order_date'] = pd.to_datetime(merged_df['order_date'])\n",
    "    merged_df['Month'] = merged_df['order_date'].dt.to_period('M')\n",
    "    monthly_rev = merged_df.groupby('Month')['total_price'].sum()\n",
    "    print(\"Monthly Revenue Trend:\\n\", monthly_rev)\n"
   ]
  },
  {
   "cell_type": "markdown",
   "id": "13b3e70d-bf6b-4d56-9c9b-40922fc366ea",
   "metadata": {},
   "source": [
    "#### Conclusion\n",
    "Revenue shows a declining trend from September to October."
   ]
  },
  {
   "cell_type": "code",
   "execution_count": null,
   "id": "66c7e05a-a3d3-4b69-974c-bed4605ae529",
   "metadata": {},
   "outputs": [],
   "source": [
    "orders.to_csv('C:/Users/Nishi/Documents/Zilo_Project/orders_clean.csv', index=False)\n",
    "products.to_csv('C:/Users/Nishi/Documents/Zilo_Project/products_clean.csv', index=False)\n",
    "top_products.head(200).to_csv('C:/Users/Nishi/Documents/Zilo_Project/top_products_by_revenue.csv', index=False)\n",
    "pincode_summary.to_csv('C:/Users/Nishi/Documents/Zilo_Project/pincode_summary.csv', index=False)"
   ]
  },
  {
   "cell_type": "markdown",
   "id": "2e1041cb-22ca-4c4a-a3aa-dca277264a0e",
   "metadata": {},
   "source": [
    "## 📌 Final Insights & Business Suggestions\n",
    "\n",
    "- Footwear and Innerwear are the top-performing categories by revenue — focus on stocking and promoting these further.<br>\n",
    "- A small number of products generate a majority of sales — consider expanding high-performing product lines.<br>\n",
    "- Monthly revenue shows a decline from September to October — investigate potential reasons (e.g., marketing gap, seasonality).<br>\n",
    "- Average Order Value (AOV) is consistent but can be improved by offering bundled products or threshold-based discounts.<br>\n",
    "- Low-selling categories should be reviewed for optimization or replacement to increase overall profitability.<br>\n"
   ]
  },
  {
   "cell_type": "code",
   "execution_count": null,
   "id": "94afa741-57e4-41a9-9eab-143d9c1e9892",
   "metadata": {},
   "outputs": [],
   "source": []
  }
 ],
 "metadata": {
  "kernelspec": {
   "display_name": "Python [conda env:base] *",
   "language": "python",
   "name": "conda-base-py"
  },
  "language_info": {
   "codemirror_mode": {
    "name": "ipython",
    "version": 3
   },
   "file_extension": ".py",
   "mimetype": "text/x-python",
   "name": "python",
   "nbconvert_exporter": "python",
   "pygments_lexer": "ipython3",
   "version": "3.13.5"
  }
 },
 "nbformat": 4,
 "nbformat_minor": 5
}
